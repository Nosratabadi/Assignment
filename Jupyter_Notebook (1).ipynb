{
  "metadata": {
    "kernelspec": {
      "name": "python",
      "display_name": "Pyolite",
      "language": "python"
    },
    "language_info": {
      "codemirror_mode": {
        "name": "python",
        "version": 3
      },
      "file_extension": ".py",
      "mimetype": "text/x-python",
      "name": "python",
      "nbconvert_exporter": "python",
      "pygments_lexer": "ipython3",
      "version": "3.8"
    }
  },
  "nbformat_minor": 4,
  "nbformat": 4,
  "cells": [
    {
      "cell_type": "markdown",
      "source": "<center>\n    <img src=\"https://s3-api.us-geo.objectstorage.softlayer.net/cf-courses-data/CognitiveClass/Logos/organization_logo/organization_logo.png\" width=\"300\" alt=\"cognitiveclass.ai logo\"  />\n</center>",
      "metadata": {}
    },
    {
      "cell_type": "markdown",
      "source": "# My Jupyter Notebook on IBM Watson Studio",
      "metadata": {}
    },
    {
      "cell_type": "markdown",
      "source": "**Saeed Nosratabdai**\n\nPhD. in Business Management",
      "metadata": {}
    },
    {
      "cell_type": "markdown",
      "source": "*I am interested in Data Science because it arms me with tools and methodologies to understand better the phenamenon I am studying.\nIn fact, I am a researcher, and the focuse of my research is on **digital transformations in SMEs**. I am dealing with big data and Data Science helps me to understand the behavior of organizational changes by analysing the data.*",
      "metadata": {}
    },
    {
      "cell_type": "markdown",
      "source": "### The multiplication of two eights is given below:",
      "metadata": {}
    },
    {
      "cell_type": "code",
      "source": "8*8",
      "metadata": {
        "trusted": true
      },
      "execution_count": 5,
      "outputs": [
        {
          "execution_count": 5,
          "output_type": "execute_result",
          "data": {
            "text/plain": "64"
          },
          "metadata": {}
        }
      ]
    },
    {
      "cell_type": "markdown",
      "source": "Scandinavian Countries\n---\n***\nFollowing three (`2+1`) countries are called [Scandinavian Countries](https://en.wikipedia.org/wiki/Scandinavia):\n\n1. Denmark\n2. Norway\n3. Sweden\n\n> These countries are grouped together not only due to their geographical locations, but also due to the similarity of their economy and institutional governance. Figure 1. depics the locations of these countries.\n\n![alt text](https://external-preview.redd.it/TaMdehj5It_lElRbjQ83-KeoRuMj4xMz6UlzVdoYy6g.png?auto=webp&s=d174076414ea902e15c24ff251e9c5318bdbf081)\n**Figure 1. The Nordic Countries.**\n\nNorthern European countries are not limited to the Scandinavian Countries, and this region hosts the following countries as well, ~which are not classified as Scandinavian Countries~:\n* Finland\n* Iceland\n* Faroe Iceland\n* Åland\n\nDespite the fact that the economy in this region is developed, population has always been an issue for these countries. Following a summary of the population situation in some of Nordic countries are provided in Table 1. \n\n**<center> Table 1. Population information of important Nordic Countries.**\n\n|Country Name|Birth Rate|Fertility Rate|Population|\n|---|---|---|---|\n|Denmark|10.60|1.73|5,818,553|\n|Finland|8.60|1.41|5520314|\n|Norway|10.40|1.56|5347896|\n|Sweden|11.40|1.76|10285453|\n|Iceland|12.00|1.71|361313|",
      "metadata": {}
    }
  ]
}